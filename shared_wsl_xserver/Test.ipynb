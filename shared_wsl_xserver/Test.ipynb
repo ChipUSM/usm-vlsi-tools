{
 "cells": [
  {
   "cell_type": "code",
   "execution_count": 1,
   "id": "289a6aa5-fd36-46c8-836a-a5d8710a70b4",
   "metadata": {},
   "outputs": [],
   "source": [
    "import gdsfactory\n",
    "import matplotlib\n",
    "import pandas\n",
    "import glayout"
   ]
  },
  {
   "cell_type": "code",
   "execution_count": 5,
   "id": "ec983d86-4f1d-4a9b-ba3c-f55c61d35b3d",
   "metadata": {},
   "outputs": [
    {
     "name": "stdout",
     "output_type": "stream",
     "text": [
      "NETGEN_REPO_COMMIT=1.5.276\n",
      "OPEN_PDKS_REPO_COMMIT=bdc9412b3e468c102d01b7cf6337be06ec6e9c9a\n",
      "MPLBACKEND=module://matplotlib_inline.backend_inline\n",
      "USER_ID=1000\n",
      "HOSTNAME=ac3eue-PowerEdge-T40\n",
      "SHLVL=1\n",
      "HOME=/home/designer\n",
      "MAGIC_REPO_COMMIT=e9db9ecbc9943a304de80b32ecc58a61a46cc91f\n",
      "PAGER=cat\n",
      "PDK_ROOT=/opt/pdks\n",
      "XSCHEM_REPO_COMMIT=747652ffe184246edcacfc072834583efcbf84a8\n",
      "FORCE_COLOR=1\n",
      "_=/usr/local/bin/jupyter-lab\n",
      "IHP_PDK_REPO_COMMIT=5a42d03194e8c98558f4e34538338a60550f89b9\n",
      "TERM=xterm-color\n",
      "KLAYOUT_REPO_COMMIT=v0.29.1\n",
      "PATH=/usr/local/sbin:/usr/local/bin:/usr/sbin:/usr/bin:/sbin:/bin\n",
      "XDG_RUNTIME_DIR=/run/user/1000\n",
      "DISPLAY=localhost:10.0\n",
      "LANG=en_US.UTF-8\n",
      "USER_GROUP=1000\n",
      "DEBIAN_FRONTEND=noninteractive\n",
      "CLICOLOR_FORCE=1\n",
      "TOOLS=/opt\n",
      "KWEB_FILESLOCATION=/tmp/gdsfactory\n",
      "GIT_PAGER=cat\n",
      "PWD=/home/designer/shared\n",
      "LC_ALL=en_US.UTF-8\n",
      "CLICOLOR=1\n",
      "JPY_PARENT_PID=10\n",
      "NGSPICE_REPO_COMMIT=ngspice-42\n",
      "PYDEVD_USE_FRAME_EVAL=NO\n",
      "TZ=Europe/Vienna\n",
      "JPY_SESSION_NAME=/home/designer/shared/Untitled.ipynb\n"
     ]
    }
   ],
   "source": []
  },
  {
   "cell_type": "code",
   "execution_count": 2,
   "id": "3370d5d8-0d40-444b-ad38-542d85f826c9",
   "metadata": {},
   "outputs": [
    {
     "name": "stderr",
     "output_type": "stream",
     "text": [
      "\u001b[32m2024-06-18 20:33:38.048\u001b[0m | \u001b[33m\u001b[1mWARNING \u001b[0m | \u001b[36mgdsfactory.pdk\u001b[0m:\u001b[36mget_active_pdk\u001b[0m:\u001b[36m733\u001b[0m - \u001b[33m\u001b[1mNo active PDK. Activating generic PDK.\n",
      "\u001b[0m\n",
      "\u001b[32m2024-06-18 20:33:38.736\u001b[0m | \u001b[1mINFO    \u001b[0m | \u001b[36mgdsfactory.technology.layer_views\u001b[0m:\u001b[36m__init__\u001b[0m:\u001b[36m790\u001b[0m - \u001b[1mImporting LayerViews from YAML file: '/usr/local/lib/python3.10/dist-packages/gdsfactory/generic_tech/layer_views.yaml'.\u001b[0m\n",
      "\u001b[32m2024-06-18 20:33:38.738\u001b[0m | \u001b[1mINFO    \u001b[0m | \u001b[36mgdsfactory.pdk\u001b[0m:\u001b[36mactivate\u001b[0m:\u001b[36m337\u001b[0m - \u001b[1m'generic' PDK is now active\u001b[0m\n",
      "\u001b[32m2024-06-18 20:33:38.816\u001b[0m | \u001b[1mINFO    \u001b[0m | \u001b[36mgdsfactory.klive\u001b[0m:\u001b[36mshow\u001b[0m:\u001b[36m55\u001b[0m - \u001b[1mMessage from klive: {\"version\": \"0.3.2\", \"type\": \"open\", \"file\": \"/tmp/gdsfactory/via.gds\"}\u001b[0m\n"
     ]
    }
   ],
   "source": [
    "from glayout.flow.pdk.gf180_mapped import gf180_mapped_pdk\n",
    "from glayout.flow.pdk.mappedpdk import MappedPDK \n",
    "from gdsfactory import Component\n",
    "from gdsfactory.components import rectangle\n",
    "\n",
    "def via(PDK: MappedPDK):\n",
    "    via_dimension = PDK.get_grule('via1')['width']\n",
    "    metal1_dimension = via_dimension + 2*PDK.get_grule('via1', 'met1')['min_enclosure']\n",
    "    metal2_dimension = via_dimension + 2*PDK.get_grule('via1', 'met2')['min_enclosure']\n",
    "\n",
    "    via_layer = PDK.get_glayer('via1')\n",
    "    metal1_layer = PDK.get_glayer('met1')\n",
    "    metal2_layer = PDK.get_glayer('met2')\n",
    "\n",
    "    top_level = Component(name=\"via\")\n",
    "    top_level << rectangle(size=(via_dimension, via_dimension), layer=via_layer, centered=True)\n",
    "    top_level << rectangle(size=(metal1_dimension, metal1_dimension), layer=metal1_layer, centered=True)\n",
    "    top_level << rectangle(size=(metal2_dimension, metal2_dimension), layer=metal2_layer, centered=True)\n",
    "\n",
    "    return top_level\n",
    "via_component = via(PDK=gf180_mapped_pdk)\n",
    "via_component.show()"
   ]
  }
 ],
 "metadata": {
  "kernelspec": {
   "display_name": "Python 3 (ipykernel)",
   "language": "python",
   "name": "python3"
  },
  "language_info": {
   "codemirror_mode": {
    "name": "ipython",
    "version": 3
   },
   "file_extension": ".py",
   "mimetype": "text/x-python",
   "name": "python",
   "nbconvert_exporter": "python",
   "pygments_lexer": "ipython3",
   "version": "3.10.12"
  }
 },
 "nbformat": 4,
 "nbformat_minor": 5
}
