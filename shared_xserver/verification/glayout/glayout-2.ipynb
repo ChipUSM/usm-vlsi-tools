{
 "cells": [
  {
   "cell_type": "markdown",
   "metadata": {},
   "source": [
    "# Glayout 2"
   ]
  },
  {
   "cell_type": "code",
   "execution_count": 1,
   "metadata": {},
   "outputs": [],
   "source": [
    "from gdsfactory import Component\n",
    "from glayout.flow.pdk.mappedpdk import MappedPDK\n",
    "from glayout.flow.placement.two_transistor_interdigitized import two_nfet_interdigitized\n",
    "\n",
    "\n",
    "def diffPair(pdk: MappedPDK):\n",
    "    c = Component(name=\"DiffPair\")\n",
    "    diffp = two_nfet_interdigitized(pdk, numcols=2, dummy=True)"
   ]
  }
 ],
 "metadata": {
  "kernelspec": {
   "display_name": "Python 3",
   "language": "python",
   "name": "python3"
  },
  "language_info": {
   "codemirror_mode": {
    "name": "ipython",
    "version": 3
   },
   "file_extension": ".py",
   "mimetype": "text/x-python",
   "name": "python",
   "nbconvert_exporter": "python",
   "pygments_lexer": "ipython3",
   "version": "3.10.12"
  }
 },
 "nbformat": 4,
 "nbformat_minor": 2
}
