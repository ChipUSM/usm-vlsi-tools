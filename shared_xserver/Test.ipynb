{
 "cells": [
  {
   "cell_type": "markdown",
   "id": "06bf3195",
   "metadata": {},
   "source": [
    "# GLayout Testing Notebook\n",
    "\n",
    "This notebook serves as a verification step that everything works as expected.\n",
    "To correctly evaluate the outputs, you should open klayout (which already has klive installed) so each cell can be displayed on it.\n",
    "\n",
    "~~~bash\n",
    "klayout -t\n",
    "~~~"
   ]
  },
  {
   "cell_type": "markdown",
   "id": "0c8187c6",
   "metadata": {},
   "source": [
    "## Basic Example: Via Instantiation"
   ]
  },
  {
   "cell_type": "code",
   "execution_count": 28,
   "id": "3370d5d8-0d40-444b-ad38-542d85f826c9",
   "metadata": {
    "editable": true,
    "slideshow": {
     "slide_type": ""
    },
    "tags": []
   },
   "outputs": [
    {
     "name": "stderr",
     "output_type": "stream",
     "text": [
      "\u001b[32m2024-06-26 17:17:34.880\u001b[0m | \u001b[1mINFO    \u001b[0m | \u001b[36mgdsfactory.klive\u001b[0m:\u001b[36mshow\u001b[0m:\u001b[36m55\u001b[0m - \u001b[1mMessage from klive: {\"version\": \"0.3.2\", \"type\": \"open\", \"file\": \"/tmp/gdsfactory/via$8.gds\"}\u001b[0m\n"
     ]
    }
   ],
   "source": [
    "from glayout.flow.pdk.sky130_mapped import sky130_mapped_pdk\n",
    "from glayout.flow.pdk.mappedpdk import MappedPDK\n",
    "from gdsfactory import Component\n",
    "from gdsfactory.components import rectangle\n",
    "\n",
    "\n",
    "def via(PDK: MappedPDK):\n",
    "    via_dimension = PDK.get_grule(\"via1\")[\"width\"]\n",
    "    metal1_dimension = (\n",
    "        via_dimension + 2 * PDK.get_grule(\"via1\", \"met1\")[\"min_enclosure\"]\n",
    "    )\n",
    "    metal2_dimension = (\n",
    "        via_dimension + 2 * PDK.get_grule(\"via1\", \"met2\")[\"min_enclosure\"]\n",
    "    )\n",
    "\n",
    "    via_layer = PDK.get_glayer(\"via1\")\n",
    "    metal1_layer = PDK.get_glayer(\"met1\")\n",
    "    metal2_layer = PDK.get_glayer(\"met2\")\n",
    "\n",
    "    top_level = Component(name=\"via\")\n",
    "    top_level << rectangle(\n",
    "        size=(via_dimension, via_dimension), layer=via_layer, centered=True\n",
    "    )\n",
    "    top_level << rectangle(\n",
    "        size=(metal1_dimension, metal1_dimension), layer=metal1_layer, centered=True\n",
    "    )\n",
    "    top_level << rectangle(\n",
    "        size=(metal2_dimension, metal2_dimension), layer=metal2_layer, centered=True\n",
    "    )\n",
    "\n",
    "    return top_level\n",
    "\n",
    "\n",
    "via_component = via(PDK=sky130_mapped_pdk)\n",
    "via_component.show()"
   ]
  },
  {
   "cell_type": "markdown",
   "id": "f84d958f",
   "metadata": {},
   "source": [
    "## Some Primitives"
   ]
  },
  {
   "cell_type": "code",
   "execution_count": 29,
   "id": "f0383de3",
   "metadata": {},
   "outputs": [
    {
     "name": "stderr",
     "output_type": "stream",
     "text": [
      "/usr/local/lib/python3.10/dist-packages/gdsfactory/show.py:40: UserWarning: Unnamed cells, 1 in 'Unnamed_41e5dcad'\n",
      "  gdspath = component.write_gds(\n",
      "\u001b[32m2024-06-26 17:17:43.980\u001b[0m | \u001b[1mINFO    \u001b[0m | \u001b[36mgdsfactory.klive\u001b[0m:\u001b[36mshow\u001b[0m:\u001b[36m55\u001b[0m - \u001b[1mMessage from klive: {\"version\": \"0.3.2\", \"type\": \"open\", \"file\": \"/tmp/gdsfactory/Unnamed_41e5dcad.gds\"}\u001b[0m\n"
     ]
    },
    {
     "name": "stdout",
     "output_type": "stream",
     "text": [
      "\n",
      "\n",
      ".subckt NMOS D G S B l=0.15 w=3 m=5 dm=1 \n",
      "XMAIN   D G S B sky130_fd_pr__nfet_01v8 l={l} w={w} m={m}\n",
      "XDUMMY1 B B B B sky130_fd_pr__nfet_01v8 l={l} w={w} m={dm}\n",
      "XDUMMY2 B B B B sky130_fd_pr__nfet_01v8 l={l} w={w} m={dm}\n",
      ".ends NMOS\n"
     ]
    }
   ],
   "source": [
    "from glayout.flow.primitives.fet import nmos\n",
    "from glayout.flow.pdk.sky130_mapped import sky130_mapped_pdk\n",
    "\n",
    "\n",
    "comp = nmos(pdk=sky130_mapped_pdk, fingers=5)\n",
    "print(comp.info[\"netlist\"].generate_netlist())\n",
    "\n",
    "comp.show()"
   ]
  },
  {
   "cell_type": "code",
   "execution_count": 30,
   "id": "f176f251",
   "metadata": {},
   "outputs": [
    {
     "name": "stderr",
     "output_type": "stream",
     "text": [
      "/usr/local/lib/python3.10/dist-packages/gdsfactory/show.py:40: UserWarning: Unnamed cells, 1 in 'Unnamed_6d7db294'\n",
      "  gdspath = component.write_gds(\n",
      "\u001b[32m2024-06-26 17:17:47.728\u001b[0m | \u001b[1mINFO    \u001b[0m | \u001b[36mgdsfactory.klive\u001b[0m:\u001b[36mshow\u001b[0m:\u001b[36m55\u001b[0m - \u001b[1mMessage from klive: {\"version\": \"0.3.2\", \"type\": \"open\", \"file\": \"/tmp/gdsfactory/Unnamed_6d7db294.gds\"}\u001b[0m\n"
     ]
    },
    {
     "name": "stdout",
     "output_type": "stream",
     "text": [
      "\n",
      "\n",
      ".subckt MIMCap V1 V2 l=1 w=1\n",
      "X1 V1 V2 sky130_fd_pr__cap_mim_m3_1 l={l} w={w}\n",
      ".ends MIMCap\n"
     ]
    }
   ],
   "source": [
    "from glayout.flow.primitives.mimcap import mimcap\n",
    "from glayout.flow.pdk.sky130_mapped import sky130_mapped_pdk\n",
    "\n",
    "comp = mimcap(pdk=sky130_mapped_pdk, size=[20.0, 5.0])\n",
    "print(comp.info[\"netlist\"].generate_netlist())\n",
    "\n",
    "comp.show()"
   ]
  },
  {
   "cell_type": "code",
   "execution_count": 31,
   "id": "a534faa0",
   "metadata": {},
   "outputs": [
    {
     "name": "stderr",
     "output_type": "stream",
     "text": [
      "/usr/local/lib/python3.10/dist-packages/gdsfactory/show.py:40: UserWarning: Unnamed cells, 1 in 'Unnamed_bf4af018$1'\n",
      "  gdspath = component.write_gds(\n",
      "\u001b[32m2024-06-26 17:17:51.053\u001b[0m | \u001b[1mINFO    \u001b[0m | \u001b[36mgdsfactory.klive\u001b[0m:\u001b[36mshow\u001b[0m:\u001b[36m55\u001b[0m - \u001b[1mMessage from klive: {\"version\": \"0.3.2\", \"type\": \"open\", \"file\": \"/tmp/gdsfactory/Unnamed_bf4af018$1.gds\"}\u001b[0m\n"
     ]
    }
   ],
   "source": [
    "from glayout.flow.primitives.guardring import tapring\n",
    "from glayout.flow.pdk.sky130_mapped import sky130_mapped_pdk\n",
    "\n",
    "comp = tapring(pdk=sky130_mapped_pdk, enclosed_rectangle=[10.0, 5.0])\n",
    "\n",
    "comp.show()"
   ]
  },
  {
   "cell_type": "markdown",
   "id": "141f0576",
   "metadata": {},
   "source": [
    "## Some Designs"
   ]
  },
  {
   "cell_type": "markdown",
   "id": "57bbd89e",
   "metadata": {},
   "source": [
    "### Current Mirror"
   ]
  },
  {
   "cell_type": "code",
   "execution_count": 32,
   "id": "cdaa8deb",
   "metadata": {},
   "outputs": [
    {
     "name": "stderr",
     "output_type": "stream",
     "text": [
      "\u001b[32m2024-06-26 17:17:53.931\u001b[0m | \u001b[1mINFO    \u001b[0m | \u001b[36mgdsfactory.pdk\u001b[0m:\u001b[36mactivate\u001b[0m:\u001b[36m337\u001b[0m - \u001b[1m'gf180' PDK is now active\u001b[0m\n",
      "/usr/local/lib/python3.10/dist-packages/gdsfactory/show.py:40: UserWarning: Unnamed cells, 4 in 'Unnamed_05ebaa75'\n",
      "  gdspath = component.write_gds(\n",
      "\u001b[32m2024-06-26 17:18:00.833\u001b[0m | \u001b[1mINFO    \u001b[0m | \u001b[36mgdsfactory.klive\u001b[0m:\u001b[36mshow\u001b[0m:\u001b[36m55\u001b[0m - \u001b[1mMessage from klive: {\"version\": \"0.3.2\", \"type\": \"open\", \"file\": \"/tmp/gdsfactory/Unnamed_05ebaa75.gds\"}\u001b[0m\n"
     ]
    }
   ],
   "source": [
    "from glayout.flow.primitives.guardring import tapring\n",
    "from glayout.flow.primitives.fet import pmos\n",
    "from glayout.flow.pdk.util.comp_utils import evaluate_bbox, prec_center\n",
    "from glayout.flow.pdk.mappedpdk import MappedPDK\n",
    "from glayout.flow.routing.straight_route import straight_route\n",
    "from glayout.flow.routing.c_route import c_route\n",
    "from gdsfactory import Component\n",
    "from glayout.flow.pdk.gf180_mapped import gf180_mapped_pdk\n",
    "# Move to sky130 please\n",
    "\n",
    "\n",
    "def currentMirror(pdk: MappedPDK):\n",
    "    currMirrComp = Component()\n",
    "    pfet_ref = pmos(pdk, with_substrate_tap=False, with_dummy=(False, True))\n",
    "    pfet_mir = pmos(pdk, with_substrate_tap=False, with_dummy=(True, False))\n",
    "    cref_ref = currMirrComp << pfet_ref\n",
    "    cmir_ref = currMirrComp << pfet_mir\n",
    "    pdk.util_max_metal_seperation()\n",
    "    cref_ref.movex(evaluate_bbox(pfet_mir)[0] + pdk.util_max_metal_seperation())\n",
    "    tap_ring = tapring(\n",
    "        pdk,\n",
    "        enclosed_rectangle=evaluate_bbox(\n",
    "            currMirrComp.flatten(),\n",
    "            padding=pdk.get_grule(\"nwell\", \"active_diff\")[\"min_enclosure\"],\n",
    "        ),\n",
    "    )\n",
    "    shift_amount = -prec_center(currMirrComp.flatten())[0]\n",
    "    tring_ref = currMirrComp << tap_ring\n",
    "    tring_ref.movex(destination=shift_amount)\n",
    "    currMirrComp << straight_route(\n",
    "        pdk,\n",
    "        cref_ref.ports[\"multiplier_0_source_E\"],\n",
    "        cmir_ref.ports[\"multiplier_0_source_E\"],\n",
    "    )\n",
    "    currMirrComp << straight_route(\n",
    "        pdk,\n",
    "        cref_ref.ports[\"multiplier_0_gate_E\"],\n",
    "        cmir_ref.ports[\"multiplier_0_gate_E\"],\n",
    "    )\n",
    "    currMirrComp << c_route(\n",
    "        pdk,\n",
    "        cref_ref.ports[\"multiplier_0_gate_E\"],\n",
    "        cref_ref.ports[\"multiplier_0_drain_E\"],\n",
    "    )\n",
    "    return currMirrComp\n",
    "\n",
    "\n",
    "cm = currentMirror(gf180_mapped_pdk)\n",
    "cm.show()"
   ]
  },
  {
   "cell_type": "markdown",
   "id": "9551f4ec",
   "metadata": {},
   "source": [
    "### Differential Pair\n",
    "\n",
    "Here we can see the power of GLayout\n",
    "\n",
    "1. Differential Pair\n",
    "2. Active Load"
   ]
  },
  {
   "cell_type": "code",
   "execution_count": 36,
   "id": "df7d2e6b",
   "metadata": {},
   "outputs": [
    {
     "name": "stderr",
     "output_type": "stream",
     "text": [
      "\u001b[32m2024-06-26 17:22:53.298\u001b[0m | \u001b[1mINFO    \u001b[0m | \u001b[36mgdsfactory.klive\u001b[0m:\u001b[36mshow\u001b[0m:\u001b[36m55\u001b[0m - \u001b[1mMessage from klive: {\"version\": \"0.3.2\", \"type\": \"open\", \"file\": \"/tmp/gdsfactory/diff_pair_471429cf$2.gds\"}\u001b[0m\n"
     ]
    },
    {
     "name": "stdout",
     "output_type": "stream",
     "text": [
      ".subckt NMOS D G S B l=0.15 w=3 m=4 dm=1 \n",
      "XMAIN   D G S B sky130_fd_pr__nfet_01v8 l={l} w={w} m={m}\n",
      "XDUMMY1 B B B B sky130_fd_pr__nfet_01v8 l={l} w={w} m={dm}\n",
      ".ends NMOS\n",
      "\n",
      ".subckt DIFF_PAIR VP VN VDD1 VDD2 VTAIL B\n",
      "X0 VDD1 VP VTAIL B NMOS l=0.15 w=3 m=2.0 dm=1\n",
      "X1 VDD2 VN VTAIL B NMOS l=0.15 w=3 m=2.0 dm=1\n",
      ".ends DIFF_PAIR\n"
     ]
    }
   ],
   "source": [
    "from glayout.flow.blocks.diff_pair import diff_pair\n",
    "from glayout.flow.pdk.sky130_mapped import sky130_mapped_pdk\n",
    "\n",
    "comp = diff_pair(pdk=sky130_mapped_pdk)\n",
    "print(comp.info[\"netlist\"].generate_netlist())\n",
    "\n",
    "comp.show()"
   ]
  },
  {
   "cell_type": "code",
   "execution_count": 37,
   "id": "6978f9b9",
   "metadata": {},
   "outputs": [
    {
     "name": "stderr",
     "output_type": "stream",
     "text": [
      "/usr/local/lib/python3.10/dist-packages/gdsfactory/show.py:40: UserWarning: Unnamed cells, 4 in 'shared_gate_components$1'\n",
      "  gdspath = component.write_gds(\n",
      "\u001b[32m2024-06-26 17:23:10.564\u001b[0m | \u001b[1mINFO    \u001b[0m | \u001b[36mgdsfactory.klive\u001b[0m:\u001b[36mshow\u001b[0m:\u001b[36m55\u001b[0m - \u001b[1mMessage from klive: {\"version\": \"0.3.2\", \"type\": \"open\", \"file\": \"/tmp/gdsfactory/shared_gate_components$1.gds\"}\u001b[0m\n"
     ]
    },
    {
     "name": "stdout",
     "output_type": "stream",
     "text": [
      "\n",
      "\n",
      ".subckt DIFF_TO_SINGLE VIN VOUT VSS VSS2 l=0.5 w=2 mt=8 mb=2 \n",
      "XTOP1 V1   VIN VSS  VSS sky130_fd_pr__pfet_01v8 l={l} w={w} m={mt}\n",
      "XTOP2 VSS2 VIN VSS  VSS sky130_fd_pr__pfet_01v8 l={l} w={w} m={mt}\n",
      "XBOT1 VIN  VIN V1   VSS sky130_fd_pr__pfet_01v8 l={l} w={w} m={mb}\n",
      "XBOT2 VOUT VIN VSS2 VSS sky130_fd_pr__pfet_01v8 l={l} w={w} m={mb}\n",
      ".ends DIFF_TO_SINGLE\n"
     ]
    }
   ],
   "source": [
    "from glayout.flow.pdk.sky130_mapped import sky130_mapped_pdk\n",
    "from glayout.flow.blocks.differential_to_single_ended_converter import (\n",
    "    differential_to_single_ended_converter,\n",
    ")\n",
    "\n",
    "comp = differential_to_single_ended_converter(\n",
    "    pdk=sky130_mapped_pdk, rmult=1, half_pload=[2, 0.5, 1], via_xlocation=0\n",
    ")\n",
    "print(comp.info[\"netlist\"].generate_netlist())\n",
    "\n",
    "comp.show()"
   ]
  },
  {
   "cell_type": "markdown",
   "id": "2311bfb2",
   "metadata": {},
   "source": [
    "## Design of an OTA"
   ]
  },
  {
   "cell_type": "code",
   "execution_count": 39,
   "id": "eeee87c0",
   "metadata": {},
   "outputs": [
    {
     "name": "stderr",
     "output_type": "stream",
     "text": [
      "\u001b[32m2024-06-26 17:32:06.339\u001b[0m | \u001b[1mINFO    \u001b[0m | \u001b[36mgdsfactory.klive\u001b[0m:\u001b[36mshow\u001b[0m:\u001b[36m55\u001b[0m - \u001b[1mMessage from klive: {\"version\": \"0.3.2\", \"type\": \"open\", \"file\": \"/tmp/gdsfactory/opamp_471429cf$1.gds\"}\u001b[0m\n"
     ]
    },
    {
     "name": "stdout",
     "output_type": "stream",
     "text": [
      ".subckt NMOS D G S B l=1.0 w=6.0 m=4 dm=1 \n",
      "XMAIN   D G S B sky130_fd_pr__nfet_01v8 l={l} w={w} m={m}\n",
      "XDUMMY1 B B B B sky130_fd_pr__nfet_01v8 l={l} w={w} m={dm}\n",
      ".ends NMOS\n",
      "\n",
      ".subckt DIFF_PAIR VP VN VDD1 VDD2 VTAIL B\n",
      "X0 VDD1 VP VTAIL B NMOS l=1.0 w=6.0 m=2.0 dm=1\n",
      "X1 VDD2 VN VTAIL B NMOS l=1.0 w=6.0 m=2.0 dm=1\n",
      ".ends DIFF_PAIR\n",
      "\n",
      ".subckt CMIRROR VREF VCOPY VSS VB l=2.0 w=6.0 m=1 \n",
      "XA VREF VREF VSS VB sky130_fd_pr__nfet_01v8 l={l} w={w} m={m}\n",
      "XB VCOPY VREF VSS VB sky130_fd_pr__nfet_01v8 l={l} w={w} m={m}\n",
      ".ends CMIRROR\n",
      "\n",
      ".subckt NMOS_1 D G S B l=0.5 w=1 m=5 dm=1 \n",
      "XMAIN   D G S B sky130_fd_pr__nfet_01v8 l={l} w={w} m={m}\n",
      ".ends NMOS_1\n",
      "\n",
      ".subckt INPUT_STAGE VP VN VDD1 VDD2 IBIAS VSS B\n",
      "X0 VP VN VDD1 VDD2 wire0 B DIFF_PAIR\n",
      "X1 IBIAS wire0 VSS VSS CMIRROR l=2.0 w=6.0 m=4\n",
      "X2 VSS VSS VP VSS NMOS_1 l=0.5 w=1 m=2.5 dm=1\n",
      "X3 VSS VSS VN VSS NMOS_1 l=0.5 w=1 m=2.5 dm=1\n",
      ".ends INPUT_STAGE\n",
      "\n",
      ".subckt DIFF_TO_SINGLE VIN VOUT VSS VSS2 l=1.0 w=6.0 mt=8 mb=12 \n",
      "XTOP1 V1   VIN VSS  VSS sky130_fd_pr__pfet_01v8 l={l} w={w} m={mt}\n",
      "XTOP2 VSS2 VIN VSS  VSS sky130_fd_pr__pfet_01v8 l={l} w={w} m={mt}\n",
      "XBOT1 VIN  VIN V1   VSS sky130_fd_pr__pfet_01v8 l={l} w={w} m={mb}\n",
      "XBOT2 VOUT VIN VSS2 VSS sky130_fd_pr__pfet_01v8 l={l} w={w} m={mb}\n",
      ".ends DIFF_TO_SINGLE\n",
      "\n",
      ".subckt PMOS D G S B l=1.0 w=7.0 m=30 dm=3 \n",
      "XMAIN   D G S B sky130_fd_pr__pfet_01v8 l={l} w={w} m={m}\n",
      "XDUMMY1 B B B B sky130_fd_pr__pfet_01v8 l={l} w={w} m={dm}\n",
      "XDUMMY2 B B B B sky130_fd_pr__pfet_01v8 l={l} w={w} m={dm}\n",
      ".ends PMOS\n",
      "\n",
      ".subckt DIFF_TO_SINGLE_CS VIN1 VIN2 VOUT VSS VSS2\n",
      "X0 VIN1 VIN2 VSS VSS2 DIFF_TO_SINGLE l=1.0 w=6.0 mt=8 mb=12\n",
      "X1 VOUT VIN2 VSS VSS PMOS l=1.0 w=7.0 m=15.0 dm=3\n",
      "X2 VOUT VIN2 VSS VSS PMOS l=1.0 w=7.0 m=15.0 dm=3\n",
      ".ends DIFF_TO_SINGLE_CS\n",
      "\n",
      ".subckt MIMCap V1 V2 l=1 w=1\n",
      "X1 V1 V2 sky130_fd_pr__cap_mim_m3_1 l={l} w={w}\n",
      ".ends MIMCap\n",
      "\n",
      ".subckt MIMCAP_ARR V1 V2\n",
      "X0 V1 V2 MIMCap l=12.0 w=12.0\n",
      "X1 V1 V2 MIMCap l=12.0 w=12.0\n",
      "X2 V1 V2 MIMCap l=12.0 w=12.0\n",
      "X3 V1 V2 MIMCap l=12.0 w=12.0\n",
      "X4 V1 V2 MIMCap l=12.0 w=12.0\n",
      "X5 V1 V2 MIMCap l=12.0 w=12.0\n",
      ".ends MIMCAP_ARR\n",
      "\n",
      ".subckt GAIN_STAGE VIN1 VIN2 VOUT VDD IBIAS GND\n",
      "X0 VIN1 VIN2 VOUT VDD wire0 DIFF_TO_SINGLE_CS\n",
      "X1 IBIAS VOUT GND GND CMIRROR l=2.0 w=6.0 m=4\n",
      "X2 VOUT wire0 MIMCAP_ARR\n",
      ".ends GAIN_STAGE\n",
      "\n",
      ".subckt OPAMP_TWO_STAGE VDD GND DIFFPAIR_BIAS VP VN CS_BIAS VOUT\n",
      "X0 VP VN wire0 wire1 DIFFPAIR_BIAS GND GND INPUT_STAGE\n",
      "X1 wire0 wire1 VOUT VDD CS_BIAS GND GAIN_STAGE\n",
      ".ends OPAMP_TWO_STAGE\n",
      "\n",
      ".subckt NMOS_2 D G S B l=1.0 w=5.0 m=16 dm=1 \n",
      "XMAIN   D G S B sky130_fd_pr__nfet_01v8 l={l} w={w} m={m}\n",
      "XDUMMY1 B B B B sky130_fd_pr__nfet_01v8 l={l} w={w} m={dm}\n",
      "XDUMMY2 B B B B sky130_fd_pr__nfet_01v8 l={l} w={w} m={dm}\n",
      ".ends NMOS_2\n",
      "\n",
      ".subckt OUTPUT_STAGE VDD GND IBIAS VIN VOUT\n",
      "X0 VDD VIN VOUT GND NMOS_2 l=1.0 w=5.0 m=8.0 dm=1\n",
      "X1 IBIAS VOUT GND GND CMIRROR l=2.0 w=6.0 m=4\n",
      ".ends OUTPUT_STAGE\n",
      "\n",
      ".subckt opamp CSoutput vdd plus minus commonsourceibias outputibias diffpairibias gnd output\n",
      "X0 vdd gnd diffpairibias plus minus commonsourceibias CSoutput OPAMP_TWO_STAGE\n",
      "X1 vdd gnd outputibias CSoutput output OUTPUT_STAGE\n",
      ".ends opamp\n"
     ]
    }
   ],
   "source": [
    "from glayout.flow.blocks.opamp import opamp\n",
    "\n",
    "opamp_params = {\n",
    "    \"half_diffpair_params\": (6, 1, 4),\n",
    "    \"diffpair_bias\": (6, 2, 4),\n",
    "    \"half_common_source_params\": (7, 1, 10, 3),\n",
    "    \"half_common_source_bias\": (6, 2, 8, 2),\n",
    "    \"output_stage_params\": (5, 1, 16),\n",
    "    \"output_stage_bias\": (6, 2, 4),\n",
    "    \"half_pload\": (6, 1, 6),\n",
    "    \"mim_cap_size\": (12, 12),\n",
    "    \"mim_cap_rows\": 3,\n",
    "    \"rmult\": 2,\n",
    "}\n",
    "\n",
    "comp = opamp(sky130_mapped_pdk, **opamp_params)\n",
    "print(comp.info[\"netlist\"].generate_netlist())\n",
    "\n",
    "comp.show()"
   ]
  }
 ],
 "metadata": {
  "kernelspec": {
   "display_name": "Python 3 (ipykernel)",
   "language": "python",
   "name": "python3"
  },
  "language_info": {
   "codemirror_mode": {
    "name": "ipython",
    "version": 3
   },
   "file_extension": ".py",
   "mimetype": "text/x-python",
   "name": "python",
   "nbconvert_exporter": "python",
   "pygments_lexer": "ipython3",
   "version": "3.10.12"
  }
 },
 "nbformat": 4,
 "nbformat_minor": 5
}
