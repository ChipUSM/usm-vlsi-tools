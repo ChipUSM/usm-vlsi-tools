{
 "cells": [
  {
   "cell_type": "code",
   "execution_count": 1,
   "id": "289a6aa5-fd36-46c8-836a-a5d8710a70b4",
   "metadata": {},
   "outputs": [],
   "source": [
    "import gdsfactory\n",
    "import matplotlib\n",
    "import pandas\n",
    "import glayout"
   ]
  },
  {
   "cell_type": "code",
   "execution_count": 12,
   "id": "3370d5d8-0d40-444b-ad38-542d85f826c9",
   "metadata": {
    "editable": true,
    "slideshow": {
     "slide_type": ""
    },
    "tags": []
   },
   "outputs": [
    {
     "name": "stderr",
     "output_type": "stream",
     "text": [
      "\u001b[32m2024-06-24 22:39:12.521\u001b[0m | \u001b[1mINFO    \u001b[0m | \u001b[36mgdsfactory.klive\u001b[0m:\u001b[36mshow\u001b[0m:\u001b[36m55\u001b[0m - \u001b[1mMessage from klive: {\"version\": \"0.3.2\", \"type\": \"open\", \"file\": \"/tmp/gdsfactory/via$10.gds\"}\u001b[0m\n"
     ]
    }
   ],
   "source": [
    "from glayout.flow.pdk.gf180_mapped import gf180_mapped_pdk\n",
    "from glayout.flow.pdk.mappedpdk import MappedPDK \n",
    "from gdsfactory import Component\n",
    "from gdsfactory.components import rectangle\n",
    "\n",
    "def via(PDK: MappedPDK):\n",
    "    via_dimension = PDK.get_grule('via1')['width']\n",
    "    metal1_dimension = via_dimension + 2*PDK.get_grule('via1', 'met1')['min_enclosure']\n",
    "    metal2_dimension = via_dimension + 2*PDK.get_grule('via1', 'met2')['min_enclosure']\n",
    "\n",
    "    via_layer = PDK.get_glayer('via1')\n",
    "    metal1_layer = PDK.get_glayer('met1')\n",
    "    metal2_layer = PDK.get_glayer('met2')\n",
    "\n",
    "    top_level = Component(name=\"via\")\n",
    "    top_level << rectangle(size=(via_dimension, via_dimension), layer=via_layer, centered=True)\n",
    "    top_level << rectangle(size=(metal1_dimension, metal1_dimension), layer=metal1_layer, centered=True)\n",
    "    top_level << rectangle(size=(metal2_dimension, metal2_dimension), layer=metal2_layer, centered=True)\n",
    "\n",
    "    return top_level\n",
    "via_component = via(PDK=gf180_mapped_pdk)\n",
    "via_component.show()"
   ]
  }
 ],
 "metadata": {
  "kernelspec": {
   "display_name": "Python 3 (ipykernel)",
   "language": "python",
   "name": "python3"
  },
  "language_info": {
   "codemirror_mode": {
    "name": "ipython",
    "version": 3
   },
   "file_extension": ".py",
   "mimetype": "text/x-python",
   "name": "python",
   "nbconvert_exporter": "python",
   "pygments_lexer": "ipython3",
   "version": "3.10.12"
  }
 },
 "nbformat": 4,
 "nbformat_minor": 5
}
